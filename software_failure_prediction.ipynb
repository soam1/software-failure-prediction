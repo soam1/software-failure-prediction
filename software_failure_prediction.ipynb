{
 "cells": [
  {
   "metadata": {},
   "cell_type": "markdown",
   "source": "# Importing libraries",
   "id": "aded2c622001d532"
  },
  {
   "cell_type": "code",
   "id": "initial_id",
   "metadata": {
    "collapsed": true,
    "ExecuteTime": {
     "end_time": "2024-10-13T05:40:49.911043Z",
     "start_time": "2024-10-13T05:40:49.906014Z"
    }
   },
   "source": [
    "# Importing necessary libraries\n",
    "import pandas as pd\n",
    "from sklearn.model_selection import train_test_split\n",
    "from sklearn.preprocessing import StandardScaler\n",
    "from sklearn.linear_model import LinearRegression\n",
    "from sklearn.svm import SVR\n",
    "from sklearn.tree import DecisionTreeRegressor\n",
    "from sklearn.ensemble import RandomForestRegressor\n",
    "from sklearn.metrics import mean_squared_error, r2_score, precision_recall_fscore_support\n",
    "import matplotlib.pyplot as plt"
   ],
   "outputs": [],
   "execution_count": 47
  },
  {
   "metadata": {},
   "cell_type": "markdown",
   "source": "# Function to preprocess the dataset (handle missing values, scaling, train/test split)\n",
   "id": "71138636b74312e6"
  },
  {
   "metadata": {
    "ExecuteTime": {
     "end_time": "2024-10-13T05:40:49.962054Z",
     "start_time": "2024-10-13T05:40:49.956772Z"
    }
   },
   "cell_type": "code",
   "source": [
    "def preprocess_data(dataset, target_column):\n",
    "    # Drop rows with missing target values (if any)\n",
    "    dataset = dataset.dropna(subset=[target_column])\n",
    "\n",
    "    # Separating the features (X) and target (y)\n",
    "    X = dataset.drop(columns=[target_column])\n",
    "    y = dataset[target_column]\n",
    "\n",
    "    # Split the data into training and testing sets (80% train, 20% test)\n",
    "    X_train, X_test, y_train, y_test = train_test_split(X, y, test_size=0.2, random_state=42)\n",
    "\n",
    "    # Standardize the features (scale the data)\n",
    "    scaler = StandardScaler()\n",
    "    X_train_scaled = scaler.fit_transform(X_train)\n",
    "    X_test_scaled = scaler.transform(X_test)\n",
    "\n",
    "    return X_train_scaled, X_test_scaled, y_train, y_test"
   ],
   "id": "7ba4fb067794d641",
   "outputs": [],
   "execution_count": 48
  },
  {
   "metadata": {},
   "cell_type": "markdown",
   "source": "# Function to evaluate models using precision, recall, f1 score, and other metrics\n",
   "id": "3e506be5a9d09999"
  },
  {
   "metadata": {
    "ExecuteTime": {
     "end_time": "2024-10-13T05:40:50.039400Z",
     "start_time": "2024-10-13T05:40:50.035191Z"
    }
   },
   "cell_type": "code",
   "source": [
    "def evaluate_model(y_true, y_pred):\n",
    "    precision, recall, f1, _ = precision_recall_fscore_support(y_true, y_pred.round(), average='weighted', zero_division=1)\n",
    "    mse = mean_squared_error(y_true, y_pred)\n",
    "    r2 = r2_score(y_true, y_pred)\n",
    "    return precision, recall, f1, mse, r2\n"
   ],
   "id": "cd4b0132f59f1c98",
   "outputs": [],
   "execution_count": 49
  },
  {
   "metadata": {},
   "cell_type": "markdown",
   "source": "# Load the datasets\n",
   "id": "37cf59df25ae97e1"
  },
  {
   "metadata": {
    "ExecuteTime": {
     "end_time": "2024-10-13T05:40:50.189451Z",
     "start_time": "2024-10-13T05:40:50.098771Z"
    }
   },
   "cell_type": "code",
   "source": [
    "dataset_kc1 = pd.read_csv('csv_result-KC1.csv')\n",
    "dataset_mw1 = pd.read_csv('csv_result-MW1.csv')\n",
    "dataset_pc5 = pd.read_csv('csv_result-PC5.csv')\n",
    "dataset_mc1 = pd.read_csv('csv_result-MC1.csv')\n"
   ],
   "id": "f524f4f515059c8",
   "outputs": [],
   "execution_count": 50
  },
  {
   "metadata": {},
   "cell_type": "markdown",
   "source": "# Preprocess the KC1, JM1, PC5, MC1 datasets",
   "id": "7c6270c676a8802f"
  },
  {
   "metadata": {
    "ExecuteTime": {
     "end_time": "2024-10-13T05:40:50.383134Z",
     "start_time": "2024-10-13T05:40:50.308784Z"
    }
   },
   "cell_type": "code",
   "source": [
    "X_train_kc1, X_test_kc1, y_train_kc1, y_test_kc1 = preprocess_data(dataset_kc1, 'Defective')\n",
    "X_train_mw1, X_test_mw1, y_train_mw1, y_test_mw1 = preprocess_data(dataset_mw1, 'Defective')\n",
    "X_train_pc5, X_test_pc5, y_train_pc5, y_test_pc5 = preprocess_data(dataset_pc5, 'Defective')\n",
    "X_train_mc1, X_test_mc1, y_train_mc1, y_test_mc1 = preprocess_data(dataset_mc1, 'Defective')\n"
   ],
   "id": "e2bfea6be93ff5d1",
   "outputs": [],
   "execution_count": 51
  },
  {
   "metadata": {},
   "cell_type": "markdown",
   "source": "# Dictionary to store results for both datasets",
   "id": "5df5bfe9f5d0122b"
  },
  {
   "metadata": {
    "ExecuteTime": {
     "end_time": "2024-10-13T05:40:50.400419Z",
     "start_time": "2024-10-13T05:40:50.396515Z"
    }
   },
   "cell_type": "code",
   "source": [
    "results_kc1 = {}\n",
    "results_mw1 = {}\n",
    "results_pc5 = {}\n",
    "results_mc1 = {}"
   ],
   "id": "1bd4321646c91de6",
   "outputs": [],
   "execution_count": 52
  },
  {
   "metadata": {},
   "cell_type": "markdown",
   "source": "# Models to be applied\n",
   "id": "d0492063875a4e65"
  },
  {
   "metadata": {
    "ExecuteTime": {
     "end_time": "2024-10-13T05:40:50.472148Z",
     "start_time": "2024-10-13T05:40:50.468227Z"
    }
   },
   "cell_type": "code",
   "source": [
    "models = {\n",
    "    'Linear Regression': LinearRegression(),\n",
    "    'SVM Regression': SVR(kernel='linear'),\n",
    "    'Decision Tree Regression': DecisionTreeRegressor(random_state=42),\n",
    "    'Random Forest Regression': RandomForestRegressor(random_state=42, n_estimators=100)\n",
    "}"
   ],
   "id": "ef71a5715a28b699",
   "outputs": [],
   "execution_count": 53
  },
  {
   "metadata": {},
   "cell_type": "markdown",
   "source": "# Train and evaluate each model for the KC1 dataset\n",
   "id": "d4dc0cf523ac143a"
  },
  {
   "metadata": {
    "ExecuteTime": {
     "end_time": "2024-10-13T05:40:52.257495Z",
     "start_time": "2024-10-13T05:40:50.530067Z"
    }
   },
   "cell_type": "code",
   "source": [
    "for model_name, model in models.items():\n",
    "    model.fit(X_train_kc1, y_train_kc1)\n",
    "    y_pred = model.predict(X_test_kc1)\n",
    "    results_kc1[model_name] = evaluate_model(y_test_kc1, y_pred)"
   ],
   "id": "be6c58f6ee85b417",
   "outputs": [],
   "execution_count": 54
  },
  {
   "metadata": {},
   "cell_type": "markdown",
   "source": "# Train and evaluate each model for the MW1 dataset",
   "id": "6be5c86d531de818"
  },
  {
   "metadata": {
    "ExecuteTime": {
     "end_time": "2024-10-13T05:40:52.793396Z",
     "start_time": "2024-10-13T05:40:52.318570Z"
    }
   },
   "cell_type": "code",
   "source": [
    "for model_name, model in models.items():\n",
    "    model.fit(X_train_mw1, y_train_mw1)\n",
    "    y_pred = model.predict(X_test_mw1)\n",
    "    results_mw1[model_name] = evaluate_model(y_test_mw1, y_pred)"
   ],
   "id": "ac5a1536c51257ee",
   "outputs": [],
   "execution_count": 55
  },
  {
   "metadata": {},
   "cell_type": "markdown",
   "source": "# Train and evaluate each model for the PC5 dataset",
   "id": "cff01aa9f2cc28fe"
  },
  {
   "metadata": {
    "ExecuteTime": {
     "end_time": "2024-10-13T05:41:21.092794Z",
     "start_time": "2024-10-13T05:40:52.851784Z"
    }
   },
   "cell_type": "code",
   "source": [
    "for model_name, model in models.items():\n",
    "    model.fit(X_train_pc5, y_train_pc5)\n",
    "    y_pred = model.predict(X_test_pc5)\n",
    "    results_pc5[model_name] = evaluate_model(y_test_pc5, y_pred)"
   ],
   "id": "8aa9bf176990d18a",
   "outputs": [],
   "execution_count": 56
  },
  {
   "metadata": {},
   "cell_type": "markdown",
   "source": "# Train and evaluate each model for the MC1 dataset",
   "id": "64342cc2cde12052"
  },
  {
   "metadata": {
    "ExecuteTime": {
     "end_time": "2024-10-13T05:41:25.119249Z",
     "start_time": "2024-10-13T05:41:21.121653Z"
    }
   },
   "cell_type": "code",
   "source": [
    "for model_name, model in models.items():\n",
    "    model.fit(X_train_mc1, y_train_mc1)\n",
    "    y_pred = model.predict(X_test_mc1)\n",
    "    results_mc1[model_name] = evaluate_model(y_test_mc1, y_pred)"
   ],
   "id": "c3e477a350a39edd",
   "outputs": [],
   "execution_count": 57
  },
  {
   "metadata": {},
   "cell_type": "markdown",
   "source": "# Convert results to DataFrame for easy comparison",
   "id": "77b69bfb529176bc"
  },
  {
   "metadata": {
    "ExecuteTime": {
     "end_time": "2024-10-13T05:41:25.164143Z",
     "start_time": "2024-10-13T05:41:25.148695Z"
    }
   },
   "cell_type": "code",
   "source": [
    "results_kc1_df = pd.DataFrame(results_kc1, index=['Precision', 'Recall', 'F1 Score', 'MSE', 'R2 Score'])\n",
    "results_mw1_df = pd.DataFrame(results_mw1, index=['Precision', 'Recall', 'F1 Score', 'MSE', 'R2 Score'])\n",
    "results_pc5_df = pd.DataFrame(results_pc5, index=['Precision', 'Recall', 'F1 Score', 'MSE', 'R2 Score'])\n",
    "results_mc1_df = pd.DataFrame(results_mc1, index=['Precision', 'Recall', 'F1 Score', 'MSE', 'R2 Score'])\n",
    "print(\"CM1 Dataset Results:\\n\", results_kc1_df)\n",
    "print(\"\\nJM1 Dataset Results:\\n\", results_mw1_df)\n",
    "print(\"\\nJM1 Dataset Results:\\n\", results_pc5_df)\n",
    "print(\"\\nJM1 Dataset Results:\\n\", results_mc1_df)"
   ],
   "id": "ebe7e1b5aa90453c",
   "outputs": [
    {
     "name": "stdout",
     "output_type": "stream",
     "text": [
      "CM1 Dataset Results:\n",
      "            Linear Regression  SVM Regression  Decision Tree Regression  \\\n",
      "Precision           0.805169        0.785534                  0.802948   \n",
      "Recall              0.841232        0.836493                  0.812796   \n",
      "F1 Score            0.800045        0.774518                  0.807444   \n",
      "MSE                 0.115555        0.132516                  0.187204   \n",
      "R2 Score            0.155128        0.031121                 -0.368724   \n",
      "\n",
      "           Random Forest Regression  \n",
      "Precision                  0.832454  \n",
      "Recall                     0.853081  \n",
      "F1 Score                   0.835669  \n",
      "MSE                        0.105247  \n",
      "R2 Score                   0.230497  \n",
      "\n",
      "JM1 Dataset Results:\n",
      "            Linear Regression  SVM Regression  Decision Tree Regression  \\\n",
      "Precision           0.853776        0.855602                  0.901235   \n",
      "Recall              0.876543        0.901235                  0.901235   \n",
      "F1 Score            0.865010        0.877826                  0.901235   \n",
      "MSE                 0.556695        0.087307                  0.098765   \n",
      "R2 Score           -7.116616       -0.272937                 -0.440000   \n",
      "\n",
      "           Random Forest Regression  \n",
      "Precision                  0.879825  \n",
      "Recall                     0.888889  \n",
      "F1 Score                   0.884206  \n",
      "MSE                        0.087614  \n",
      "R2 Score                  -0.277406  \n",
      "\n",
      "JM1 Dataset Results:\n",
      "            Linear Regression  SVM Regression  Decision Tree Regression  \\\n",
      "Precision           0.966174        0.963657                  0.975052   \n",
      "Recall              0.972077        0.970041                  0.973822   \n",
      "F1 Score            0.965380        0.958686                  0.974397   \n",
      "MSE                 0.025775        0.029435                  0.026178   \n",
      "R2 Score            0.129462        0.005847                  0.115854   \n",
      "\n",
      "           Random Forest Regression  \n",
      "Precision                  0.976966  \n",
      "Recall                     0.979058  \n",
      "F1 Score                   0.977619  \n",
      "MSE                        0.014158  \n",
      "R2 Score                   0.521838  \n",
      "\n",
      "JM1 Dataset Results:\n",
      "            Linear Regression  SVM Regression  Decision Tree Regression  \\\n",
      "Precision           0.993704        0.993704                  0.992403   \n",
      "Recall              0.993664        0.993664                  0.992080   \n",
      "F1 Score            0.990506        0.990506                  0.992238   \n",
      "MSE                 0.005990        0.010482                  0.007920   \n",
      "R2 Score            0.048560       -0.665032                 -0.257970   \n",
      "\n",
      "           Random Forest Regression  \n",
      "Precision                  0.993072  \n",
      "Recall                     0.994192  \n",
      "F1 Score                   0.993432  \n",
      "MSE                        0.004284  \n",
      "R2 Score                   0.319564  \n"
     ]
    }
   ],
   "execution_count": 58
  },
  {
   "metadata": {},
   "cell_type": "markdown",
   "source": "# Plot the comparison of F1 Score for both datasets\n",
   "id": "4220e13629e5825e"
  },
  {
   "metadata": {
    "ExecuteTime": {
     "end_time": "2024-10-13T05:41:25.343912Z",
     "start_time": "2024-10-13T05:41:25.196136Z"
    }
   },
   "cell_type": "code",
   "source": [
    "fig, ax = plt.subplots(figsize=(10, 6))\n",
    "results_kc1_df.loc['F1 Score'].plot(kind='bar', color='b', alpha=0.6, ax=ax, position=1, width=0.4, label='CM1 F1 Score')\n",
    "results_mw1_df.loc['F1 Score'].plot(kind='bar', color='r', alpha=0.6, ax=ax, position=0, width=0.4, label='MW1 F1 Score')\n",
    "results_pc5_df.loc['F1 Score'].plot(kind='bar', color='r', alpha=0.6, ax=ax, position=0, width=0.4, label='PC5 F1 Score')\n",
    "results_mc1_df.loc['F1 Score'].plot(kind='bar', color='r', alpha=0.6, ax=ax, position=0, width=0.4, label='MC1 F1 Score')\n",
    "\n",
    "plt.title(\"Comparison of F1 Scores for Different Models\")\n",
    "plt.ylabel('F1 Score')\n",
    "plt.legend()\n",
    "plt.show()"
   ],
   "id": "14220455f7e0f1ae",
   "outputs": [
    {
     "data": {
      "text/plain": [
       "<Figure size 1000x600 with 1 Axes>"
      ],
      "image/png": "[encoded data removed]"
     },
     "metadata": {},
     "output_type": "display_data"
    }
   ],
   "execution_count": 59
  }
 ],
 "metadata": {
  "kernelspec": {
   "display_name": "Python 3",
   "language": "python",
   "name": "python3"
  },
  "language_info": {
   "codemirror_mode": {
    "name": "ipython",
    "version": 2
   },
   "file_extension": ".py",
   "mimetype": "text/x-python",
   "name": "python",
   "nbconvert_exporter": "python",
   "pygments_lexer": "ipython2",
   "version": "2.7.6"
  }
 },
 "nbformat": 4,
 "nbformat_minor": 5
}
